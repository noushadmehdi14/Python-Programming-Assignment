{
 "cells": [
  {
   "cell_type": "code",
   "execution_count": 1,
   "metadata": {},
   "outputs": [
    {
     "ename": "SyntaxError",
     "evalue": "invalid syntax (<ipython-input-1-2326f70ad04f>, line 1)",
     "output_type": "error",
     "traceback": [
      "\u001b[1;36m  File \u001b[1;32m\"<ipython-input-1-2326f70ad04f>\"\u001b[1;36m, line \u001b[1;32m1\u001b[0m\n\u001b[1;33m    Object-oriented programming (OOP) refers to a type of computer programming (software design)\u001b[0m\n\u001b[1;37m                              ^\u001b[0m\n\u001b[1;31mSyntaxError\u001b[0m\u001b[1;31m:\u001b[0m invalid syntax\n"
     ]
    }
   ],
   "source": [
    "Object-oriented programming (OOP) refers to a type of computer programming (software design) \n",
    "in which programmers define the data type of a data structure, and also the types of operations (functions) \n",
    "that can be applied to the data structure."
   ]
  },
  {
   "cell_type": "code",
   "execution_count": 2,
   "metadata": {},
   "outputs": [
    {
     "ename": "SyntaxError",
     "evalue": "invalid syntax (<ipython-input-2-145c91947735>, line 1)",
     "output_type": "error",
     "traceback": [
      "\u001b[1;36m  File \u001b[1;32m\"<ipython-input-2-145c91947735>\"\u001b[1;36m, line \u001b[1;32m1\u001b[0m\n\u001b[1;33m    1. Simplicity: software objects model real world objects, so the complexity is reduced and the program structure is very clear;\u001b[0m\n\u001b[1;37m                ^\u001b[0m\n\u001b[1;31mSyntaxError\u001b[0m\u001b[1;31m:\u001b[0m invalid syntax\n"
     ]
    }
   ],
   "source": [
    "1. Simplicity: software objects model real world objects, so the complexity is reduced and the program structure is very clear; \n",
    "2. Modularity: each object forms a separate entity whose internal workings are decoupled from other parts of the system; \n",
    "3. Modifiability: it is easy to make minor changes in the data representation or the procedures in an OO program. Changes inside a class do not affect any other part of a program, since the only public interface that the external world has to a class is through the use of methods; \n",
    "4. Extensibility: adding new features or responding to changing operating environments can be solved by introducing a few new objects and modifying some existing ones; \n",
    "5. Maintainability: objects can be maintained separately, making locating and fixing problems easier; \n",
    "6. Re-usability: objects can be reused in different programs"
   ]
  },
  {
   "cell_type": "code",
   "execution_count": 3,
   "metadata": {},
   "outputs": [
    {
     "ename": "SyntaxError",
     "evalue": "invalid syntax (<ipython-input-3-fc30e3a58db6>, line 1)",
     "output_type": "error",
     "traceback": [
      "\u001b[1;36m  File \u001b[1;32m\"<ipython-input-3-fc30e3a58db6>\"\u001b[1;36m, line \u001b[1;32m1\u001b[0m\n\u001b[1;33m    A function is a piece of code that is called by name.\u001b[0m\n\u001b[1;37m             ^\u001b[0m\n\u001b[1;31mSyntaxError\u001b[0m\u001b[1;31m:\u001b[0m invalid syntax\n"
     ]
    }
   ],
   "source": [
    "A function is a piece of code that is called by name.\n",
    "It can be passed data to operate on (i.e. the parameters) \n",
    "and can optionally return data (the return value). \n",
    "All data that is passed to a function is explicitly passed.\n",
    "\n",
    "A method is a piece of code that is called by a name that is associated with an object. \n",
    "In most respects it is identical to a function except for two key differences:\n",
    "\n",
    "A method is implicitly passed the object on which it was called.\n",
    "A method is able to operate on data that is contained within the class (remembering that an object is an instance of a class - the class is the definition, the object is an instance of that data)."
   ]
  },
  {
   "cell_type": "code",
   "execution_count": 4,
   "metadata": {},
   "outputs": [
    {
     "ename": "SyntaxError",
     "evalue": "invalid syntax (<ipython-input-4-0f36e5077ebe>, line 1)",
     "output_type": "error",
     "traceback": [
      "\u001b[1;36m  File \u001b[1;32m\"<ipython-input-4-0f36e5077ebe>\"\u001b[1;36m, line \u001b[1;32m1\u001b[0m\n\u001b[1;33m    A class is a blueprint for creating objects,\u001b[0m\n\u001b[1;37m          ^\u001b[0m\n\u001b[1;31mSyntaxError\u001b[0m\u001b[1;31m:\u001b[0m invalid syntax\n"
     ]
    }
   ],
   "source": [
    "A class is a blueprint for creating objects, \n",
    "providing initial values for state (member variables or attributes),\n",
    "and implementations of behavior (member functions or methods).\n",
    "The user-defined objects are created using the class keyword.\n",
    "\n",
    "Each object is an instance of a particular class or subclass with \n",
    "the class's own methods or procedures and data variables.\n",
    "\n",
    "Attributes are data stored inside a class or instance and represent\n",
    "the state or quality of the class or instance. \n",
    "In short, attributes store information about the instance.\n",
    "\n",
    "Behavior. A classs behavior determines how an instance of that class operates; \n",
    "for example, how it will \"react\" if asked to do something by another class or object \n",
    "or if its internal state changes. \n",
    "Behavior is the only way objects can do anything to themselves or have anything done to them."
   ]
  },
  {
   "cell_type": "code",
   "execution_count": 7,
   "metadata": {},
   "outputs": [
    {
     "name": "stdout",
     "output_type": "stream",
     "text": [
      "Runing\n"
     ]
    }
   ],
   "source": [
    "class Car:\n",
    "    def __init__(self, name, color, model, year, company):\n",
    "        self.name = name\n",
    "        self.color = color\n",
    "        self.model = model\n",
    "        self.year = year\n",
    "        self.company = company\n",
    "        \n",
    "    def run(self):\n",
    "        print(\"Runing\")\n",
    "    def horn(self):\n",
    "        print('Peep')\n",
    "    def breaki(self):\n",
    "        print(\"break\")\n",
    "        \n",
    "c1 = Car(\"jli\",\"black\",\"jp2015\",\"2015\", \"carola\")\n",
    "c2 = Car(\"jli1\",\"black\",\"jp2015\",\"2016\", \"carola\")\n",
    "c3 = Car(\"jli2\",\"black\",\"jp2015\",\"2017\", \"carola\")\n",
    "c4 = Car(\"jli3\",\"black\",\"jp2015\",\"2018\", \"carola\")\n",
    "c5 = Car(\"jli4\",\"black\",\"jp2015\",\"2019\", \"carola\")\n",
    "\n",
    "c1.run()"
   ]
  },
  {
   "cell_type": "code",
   "execution_count": null,
   "metadata": {},
   "outputs": [],
   "source": []
  }
 ],
 "metadata": {
  "kernelspec": {
   "display_name": "Python 3",
   "language": "python",
   "name": "python3"
  },
  "language_info": {
   "codemirror_mode": {
    "name": "ipython",
    "version": 3
   },
   "file_extension": ".py",
   "mimetype": "text/x-python",
   "name": "python",
   "nbconvert_exporter": "python",
   "pygments_lexer": "ipython3",
   "version": "3.6.5"
  }
 },
 "nbformat": 4,
 "nbformat_minor": 2
}
