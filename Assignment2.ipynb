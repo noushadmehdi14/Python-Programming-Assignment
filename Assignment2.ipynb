{
 "cells": [
  {
   "cell_type": "code",
   "execution_count": 1,
   "metadata": {},
   "outputs": [],
   "source": [
    "################Mark Sheet Program###################\n"
   ]
  },
  {
   "cell_type": "code",
   "execution_count": 5,
   "metadata": {},
   "outputs": [
    {
     "name": "stdout",
     "output_type": "stream",
     "text": [
      "Enter Your NameLaraib\n",
      "Enter Your Maths Marks..?80\n",
      "Enter Your Chemistry Marks..?80\n",
      "Enter Your Physics Marks..?80\n",
      "Enter Your English Marks..?80\n",
      "Enter Your Computer Marks..?80\n",
      "----MarkSheet-----\n",
      "Student Name = Laraib\n",
      "Maths = 80\n",
      "Chemistry = 80\n",
      "Physics = 80\n",
      "English = 80\n",
      "Computer = 80\n",
      "Total Marks = 400\n",
      "Percentage = 80.0\n",
      "Grade = A\n"
     ]
    }
   ],
   "source": [
    "sum = 0\n",
    "name = input(\"Enter Your Name = \")\n",
    "maths = int(input(\"Enter Your Maths Marks..? \"))\n",
    "chem = int(input(\"Enter Your Chemistry Marks..? \"))\n",
    "phy = int(input(\"Enter Your Physics Marks..? \"))\n",
    "eng = int(input(\"Enter Your English Marks..? \"))\n",
    "com = int(input(\"Enter Your Computer Marks..? \"))\n",
    "\n",
    "sum = maths+chem+phy+eng+com\n",
    "per = (sum/500)*100\n",
    "if(per < 50):\n",
    "    grade = \"Fail\"\n",
    "elif(per <= 60):\n",
    "    grade = \"C\"\n",
    "elif(per <= 70):\n",
    "    grade = \"B\"\n",
    "elif(per <= 80):\n",
    "    grade = \"A\"\n",
    "else:\n",
    "    grade = \"A+\"\n",
    "    \n",
    "print(\"----MarkSheet-----\")\n",
    "print(\"Student Name = \" + name)\n",
    "print(\"Maths = \" + str(maths))\n",
    "print(\"Chemistry = \" + str(chem))\n",
    "print(\"Physics = \" + str(phy))\n",
    "print(\"English = \" + str(eng))\n",
    "print(\"Computer = \" + str(com))\n",
    "print(\"Total Marks = \" + str(sum))\n",
    "print(\"Percentage = \" + str(per))\n",
    "print(\"Grade = \" + grade)"
   ]
  },
  {
   "cell_type": "code",
   "execution_count": null,
   "metadata": {},
   "outputs": [],
   "source": [
    "########### ODD/EVEN PROGRAM ###############"
   ]
  },
  {
   "cell_type": "code",
   "execution_count": 7,
   "metadata": {},
   "outputs": [
    {
     "name": "stdout",
     "output_type": "stream",
     "text": [
      "Enter Any Number5\n",
      "5 is Odd Number\n"
     ]
    }
   ],
   "source": [
    "Num = int(input(\"Enter Any Number = \"))\n",
    "if(Num % 2 == 0):\n",
    "    print(str(Num) + \" is Even Number\")\n",
    "else:\n",
    "    print(str(Num) + \" is Odd Number\")\n"
   ]
  },
  {
   "cell_type": "code",
   "execution_count": null,
   "metadata": {},
   "outputs": [],
   "source": [
    "############# Lenght Of List Program ##############"
   ]
  },
  {
   "cell_type": "code",
   "execution_count": 13,
   "metadata": {},
   "outputs": [
    {
     "name": "stdout",
     "output_type": "stream",
     "text": [
      "Lenght of ['Ali', 'John', 'Wick'] is 3\n"
     ]
    }
   ],
   "source": [
    "list1 = [\"Ali\", \"John\", \"Wick\"]\n",
    "print(\"Lenght of \" + str(list1) + \" is \" + str(len(list1)))"
   ]
  },
  {
   "cell_type": "code",
   "execution_count": null,
   "metadata": {},
   "outputs": [],
   "source": [
    "############# Sum Of Numeric Items In List ##############"
   ]
  },
  {
   "cell_type": "code",
   "execution_count": 23,
   "metadata": {},
   "outputs": [
    {
     "name": "stdout",
     "output_type": "stream",
     "text": [
      "Sum Of Numeric Items In List = 13\n"
     ]
    }
   ],
   "source": [
    "list2 = [\"Asad\", 4, 2, \"Ali\", 7]\n",
    "sum = 0\n",
    "for x in range(len(list2)):\n",
    "    Type = type(list2[x]) \n",
    "    if(Type == int):\n",
    "        sum = sum + list2[x]\n",
    "print(\"Sum Of Numeric Items In List = \" + str(sum))"
   ]
  },
  {
   "cell_type": "code",
   "execution_count": null,
   "metadata": {},
   "outputs": [],
   "source": [
    "############## Largest Number In Numeric List ################"
   ]
  },
  {
   "cell_type": "code",
   "execution_count": 1,
   "metadata": {},
   "outputs": [
    {
     "name": "stdout",
     "output_type": "stream",
     "text": [
      "Maximum is: 10\n"
     ]
    }
   ],
   "source": [
    "num = [1, 3, 2, 8, 5, 10, 6]\n",
    "print('Maximum is:', max(num))"
   ]
  },
  {
   "cell_type": "code",
   "execution_count": 2,
   "metadata": {},
   "outputs": [],
   "source": [
    "############# Less Then 5 Program ################"
   ]
  },
  {
   "cell_type": "code",
   "execution_count": 3,
   "metadata": {},
   "outputs": [
    {
     "name": "stdout",
     "output_type": "stream",
     "text": [
      "1\n",
      "1\n",
      "2\n",
      "3\n"
     ]
    }
   ],
   "source": [
    "a = [1,1,2,3,5,8,13,21,34,55,89]\n",
    "for z in range(len(a)):\n",
    "    if(a[z] < 5):\n",
    "        print(a[z])"
   ]
  },
  {
   "cell_type": "code",
   "execution_count": null,
   "metadata": {},
   "outputs": [],
   "source": []
  }
 ],
 "metadata": {
  "kernelspec": {
   "display_name": "Python 3",
   "language": "python",
   "name": "python3"
  },
  "language_info": {
   "codemirror_mode": {
    "name": "ipython",
    "version": 3
   },
   "file_extension": ".py",
   "mimetype": "text/x-python",
   "name": "python",
   "nbconvert_exporter": "python",
   "pygments_lexer": "ipython3",
   "version": "3.6.5"
  }
 },
 "nbformat": 4,
 "nbformat_minor": 2
}
