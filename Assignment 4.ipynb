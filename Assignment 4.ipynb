{
 "cells": [
  {
   "cell_type": "code",
   "execution_count": 5,
   "metadata": {},
   "outputs": [
    {
     "name": "stdout",
     "output_type": "stream",
     "text": [
      "('first_name', 'mohammad')\n",
      "('last_name', 'noushad')\n",
      "('age', 22)\n",
      "('city', 'karachi')\n"
     ]
    }
   ],
   "source": [
    "person1 = {\n",
    "    \"first_name\": \"mohammad\",\n",
    "    \"last_name\": \"noushad\",\n",
    "    \"age\": 22,\n",
    "    \"city\": \"karachi\"\n",
    "}\n",
    "for value in person1.items():\n",
    "    print(value)"
   ]
  },
  {
   "cell_type": "code",
   "execution_count": 6,
   "metadata": {},
   "outputs": [],
   "source": [
    "person1[\"Qualification\"] = \"high academic\""
   ]
  },
  {
   "cell_type": "code",
   "execution_count": 7,
   "metadata": {},
   "outputs": [
    {
     "data": {
      "text/plain": [
       "{'first_name': 'mohammad',\n",
       " 'last_name': 'noushad',\n",
       " 'age': 22,\n",
       " 'city': 'karachi',\n",
       " 'Qualification': 'high academic'}"
      ]
     },
     "execution_count": 7,
     "metadata": {},
     "output_type": "execute_result"
    }
   ],
   "source": [
    "person1"
   ]
  },
  {
   "cell_type": "code",
   "execution_count": 8,
   "metadata": {},
   "outputs": [],
   "source": [
    "del person1[\"Qualification\"]"
   ]
  },
  {
   "cell_type": "code",
   "execution_count": 9,
   "metadata": {},
   "outputs": [
    {
     "data": {
      "text/plain": [
       "{'first_name': 'mohammad',\n",
       " 'last_name': 'noushad',\n",
       " 'age': 22,\n",
       " 'city': 'karachi'}"
      ]
     },
     "execution_count": 9,
     "metadata": {},
     "output_type": "execute_result"
    }
   ],
   "source": [
    "person1"
   ]
  },
  {
   "cell_type": "code",
   "execution_count": 11,
   "metadata": {},
   "outputs": [
    {
     "data": {
      "text/plain": [
       "{'karachi': {'country': 'pakistan', 'population': '52', 'fact': 'xyz'},\n",
       " 'Lahore': {'country': 'pakistan', 'population': '53', 'fact': 'abc'},\n",
       " 'faislabad': {'country': 'pakistan', 'population': '54', 'fact': 'efg'}}"
      ]
     },
     "execution_count": 11,
     "metadata": {},
     "output_type": "execute_result"
    }
   ],
   "source": [
    "cities = {\n",
    "    \"karachi\": {\n",
    "        \"country\": \"pakistan\",\n",
    "        \"population\": \"52\",\n",
    "        \"fact\": \"xyz\"\n",
    "    },\n",
    "    \"Lahore\": {\n",
    "        \"country\": \"pakistan\",\n",
    "        \"population\": \"53\",\n",
    "        \"fact\": \"abc\"\n",
    "    },\n",
    "    \"faislabad\": {\n",
    "        \"country\": \"pakistan\",\n",
    "        \"population\": \"54\",\n",
    "        \"fact\": \"efg\"\n",
    "    }\n",
    "}\n",
    "\n",
    "cities"
   ]
  },
  {
   "cell_type": "code",
   "execution_count": 13,
   "metadata": {},
   "outputs": [
    {
     "name": "stdout",
     "output_type": "stream",
     "text": [
      "Enter your age: 12\n",
      "ticket $10\n",
      "Enter your age: 5\n",
      "ticket $10\n",
      "Enter your age: 3\n",
      "ticket $10\n",
      "Enter your age: 2\n",
      "Free\n",
      "Enter your age: 5\n",
      "ticket $10\n",
      "Enter your age: 5\n",
      "ticket $10\n",
      "Enter your age: 6\n",
      "ticket $10\n",
      "Enter your age: 50\n",
      "ticket $15\n",
      "Enter your age: 54\n",
      "ticket $15\n",
      "Enter your age: 0\n",
      "Free\n"
     ]
    }
   ],
   "source": [
    "for i in range(10):\n",
    "    age = int(input(\"Enter your age: \"))\n",
    "    if(age<3):\n",
    "        print(\"Free\")\n",
    "    elif(age>=3 and age<=12):\n",
    "        print(\"ticket $10\")\n",
    "    elif(age>12):\n",
    "        print(\"ticket $15\")"
   ]
  },
  {
   "cell_type": "code",
   "execution_count": 14,
   "metadata": {},
   "outputs": [
    {
     "name": "stdout",
     "output_type": "stream",
     "text": [
      "one of my favorite book is Alice in Wounderland\n"
     ]
    }
   ],
   "source": [
    "def favorite_book(title):\n",
    "    print(\"one of my favorite book is \" + title)\n",
    "favorite_book(\"Alice in Wounderland\")"
   ]
  },
  {
   "cell_type": "code",
   "execution_count": 17,
   "metadata": {},
   "outputs": [
    {
     "name": "stdout",
     "output_type": "stream",
     "text": [
      "Please enter your guess: 255\n",
      "Your guess is too high\n"
     ]
    }
   ],
   "source": [
    "import random\n",
    " \n",
    "hidden = random.randrange(1, 201)\n",
    "# print hidden\n",
    " \n",
    "guess = int(input(\"Please enter your guess: \"))\n",
    " \n",
    "if guess == hidden:\n",
    "    print (\"Hit!\")\n",
    "elif guess < hidden:\n",
    "    print (\"Your guess is too low\")\n",
    "else:\n",
    "    print (\"Your guess is too high\")"
   ]
  },
  {
   "cell_type": "code",
   "execution_count": null,
   "metadata": {},
   "outputs": [],
   "source": []
  }
 ],
 "metadata": {
  "kernelspec": {
   "display_name": "Python 3",
   "language": "python",
   "name": "python3"
  },
  "language_info": {
   "codemirror_mode": {
    "name": "ipython",
    "version": 3
   },
   "file_extension": ".py",
   "mimetype": "text/x-python",
   "name": "python",
   "nbconvert_exporter": "python",
   "pygments_lexer": "ipython3",
   "version": "3.6.5"
  }
 },
 "nbformat": 4,
 "nbformat_minor": 2
}
