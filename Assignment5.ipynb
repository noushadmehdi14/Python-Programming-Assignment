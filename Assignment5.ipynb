{
 "cells": [
  {
   "cell_type": "code",
   "execution_count": 3,
   "metadata": {},
   "outputs": [
    {
     "name": "stdout",
     "output_type": "stream",
     "text": [
      "Enter Value to find Factorial:4\n",
      "Factorial of a 4 = 24\n"
     ]
    }
   ],
   "source": [
    "num= input(\"Enter Value to find Factorial:\")\n",
    "num=int(num)\n",
    "def Factorial(num): \n",
    "    f=1 \n",
    "    if num<1: \n",
    "        print(\"please enter value that is greater then one\") \n",
    "    elif num>=1: \n",
    "        for i in range(1,num+1): \n",
    "            f=f*i\n",
    "        print(\"Factorial of a\", num , \"=\", f)\n",
    "    else: \n",
    "        print(\"Invalid Value Enter\")\n",
    "Factorial(num)"
   ]
  },
  {
   "cell_type": "code",
   "execution_count": 5,
   "metadata": {},
   "outputs": [
    {
     "name": "stdout",
     "output_type": "stream",
     "text": [
      "Enter String:jhjDSDxfc\n",
      "Upper case =  3\n",
      "Lower case =  6\n"
     ]
    }
   ],
   "source": [
    "def Count(stns): \n",
    "    upper=0 \n",
    "    lower=0 \n",
    "    for i in stns: \n",
    "        if i>=\"A\" and i<=\"Z\": \n",
    "            upper +=1 \n",
    "        elif i>=\"a\" and i<=\"z\": \n",
    "            lower +=1 \n",
    "    print(\"Upper case = \",upper) \n",
    "    print(\"Lower case = \", lower) \n",
    "stns = input(\"Enter String:\"); \n",
    "Count(stns); "
   ]
  },
  {
   "cell_type": "code",
   "execution_count": 7,
   "metadata": {},
   "outputs": [
    {
     "name": "stdout",
     "output_type": "stream",
     "text": [
      "Enter number of element you want to enter2\n",
      "26\n",
      "35\n",
      "26, "
     ]
    }
   ],
   "source": [
    "List = []\n",
    "n = int(input(\"Enter number of element you want to enter\")) \n",
    "for i in range(0, n): \n",
    "    num= int(input()) \n",
    "    List.append(num) \n",
    "    def Even(List): \n",
    "        for num in List: \n",
    "            if num % 2==0: \n",
    "                print(num, end =\", \") \n",
    "Even(List); "
   ]
  },
  {
   "cell_type": "markdown",
   "metadata": {},
   "source": []
  },
  {
   "cell_type": "code",
   "execution_count": 9,
   "metadata": {},
   "outputs": [
    {
     "name": "stdout",
     "output_type": "stream",
     "text": [
      "Enter num to check it is prime or not: 12\n",
      "12  is not a prime\n"
     ]
    }
   ],
   "source": [
    "num = int(input(\"Enter num to check it is prime or not: \")) \n",
    "def Prime(num): \n",
    "    if num>1: \n",
    "        for i in range(2,num//2): \n",
    "            if(num % i)==0: \n",
    "                print(num, \" is not a prime\") \n",
    "                break \n",
    "            else: \n",
    "                print(num, \"is a prime number \") \n",
    "    else: \n",
    "        print(num, \"is not a prime number\") \n",
    "Prime(num); "
   ]
  },
  {
   "cell_type": "code",
   "execution_count": 12,
   "metadata": {},
   "outputs": [
    {
     "name": "stdout",
     "output_type": "stream",
     "text": [
      "Enter word to check is it Palindrome: kjk\n",
      "The string is a palindrome\n"
     ]
    }
   ],
   "source": [
    "def Palindrome(string): \n",
    "    if(string==string[::-1]): \n",
    "        print(\"The string is a palindrome\") \n",
    "    else: \n",
    "        print(\"Not a palindrome\") \n",
    "string= input(\"Enter word to check is it Palindrome: \") \n",
    "Palindrome(string)"
   ]
  },
  {
   "cell_type": "code",
   "execution_count": null,
   "metadata": {},
   "outputs": [],
   "source": []
  }
 ],
 "metadata": {
  "kernelspec": {
   "display_name": "Python 3",
   "language": "python",
   "name": "python3"
  },
  "language_info": {
   "codemirror_mode": {
    "name": "ipython",
    "version": 3
   },
   "file_extension": ".py",
   "mimetype": "text/x-python",
   "name": "python",
   "nbconvert_exporter": "python",
   "pygments_lexer": "ipython3",
   "version": "3.6.5"
  }
 },
 "nbformat": 4,
 "nbformat_minor": 2
}
