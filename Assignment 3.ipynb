{
 "cells": [
  {
   "cell_type": "code",
   "execution_count": 7,
   "metadata": {},
   "outputs": [
    {
     "name": "stdout",
     "output_type": "stream",
     "text": [
      "Enter First Number 5\n",
      "Enter Second Number 2\n",
      "Enter Your Choice1\n",
      "Sum = 7\n",
      "Want to run program again..? (Y/N)N\n"
     ]
    }
   ],
   "source": [
    "while(True):\n",
    "    num1 = int(input(\"Enter First Number \"))\n",
    "    num2 = int(input(\"Enter Second Number \"))\n",
    "    choice = input(\"Enter Your Choice\")\n",
    "\n",
    "    if(choice == '1'):\n",
    "        sum = num1 + num2\n",
    "        print(\"Sum = \" + str(sum))\n",
    "    elif(choice == '2'):\n",
    "        diff = num1 - num2\n",
    "        print(\"Difference = \" + str(diff))\n",
    "    elif(choice == '3'):\n",
    "        mult = num1 * num2\n",
    "        print(\"Product = \" + str(mult))\n",
    "    elif(choice == '4'):\n",
    "        div = num1/num2\n",
    "        print(\"Answer = \" + str(div))\n",
    "    elif(choice == '5'):\n",
    "        power = num1 ** num2\n",
    "        print(\"Answer = \" + str(power))\n",
    "    else:\n",
    "        print(\"Enter Value 1:SUM, 2:DIFFERENCE, 3:MULTIPLICATION, 4:DIVISION, 5:POWER\")\n",
    "\n",
    "    choice2 = input(\"Want to run program again..? (Y/N)\")\n",
    "    if(choice2 == 'Y'):\n",
    "        continue\n",
    "    else:\n",
    "        break\n",
    "    \n"
   ]
  },
  {
   "cell_type": "code",
   "execution_count": 19,
   "metadata": {},
   "outputs": [
    {
     "name": "stdout",
     "output_type": "stream",
     "text": [
      "not numeric\n"
     ]
    }
   ],
   "source": [
    "count = 0\n",
    "list = ['asad','ali']\n",
    "for x in list:\n",
    "    Type = type(x) \n",
    "    if(Type == int):\n",
    "        count = count + 1\n",
    "        \n",
    "        \n",
    "if(count == 0):\n",
    "    print(\"not numeric\")\n",
    "else:\n",
    "    print(\"numeric\")\n",
    "    "
   ]
  },
  {
   "cell_type": "code",
   "execution_count": 22,
   "metadata": {},
   "outputs": [
    {
     "name": "stdout",
     "output_type": "stream",
     "text": [
      "{'Name': 'Hassan', 'Age': 30, 'Job': 'Web Developer'}\n",
      "{'Name': 'Hassan', 'Age': 30, 'Job': 'Web Developer', 'Father Name': 'Ali Jawed'}\n"
     ]
    }
   ],
   "source": [
    "employeesdic = {\n",
    "    'Name' : 'Hassan',\n",
    "    'Age' : 30,\n",
    "    'Job' : 'Web Developer'\n",
    "}\n",
    "print(employeesdic)\n",
    "\n",
    "employeesdic.update({'Father Name' : 'Ali Jawed'})\n",
    "\n",
    "print(employeesdic)"
   ]
  },
  {
   "cell_type": "code",
   "execution_count": 27,
   "metadata": {},
   "outputs": [
    {
     "name": "stdout",
     "output_type": "stream",
     "text": [
      "1000\n"
     ]
    }
   ],
   "source": [
    "myDict = {\n",
    "    'a': 100,\n",
    "    'b': 200,\n",
    "    'c': 700\n",
    "}\n",
    "sum = 0\n",
    "for i in myDict: \n",
    "    sum = sum + myDict[i]\n",
    "print(sum)\n"
   ]
  },
  {
   "cell_type": "code",
   "execution_count": 28,
   "metadata": {},
   "outputs": [
    {
     "name": "stdout",
     "output_type": "stream",
     "text": [
      "[2, 4, 10, 20, 5]\n"
     ]
    }
   ],
   "source": [
    "duplicate = [2, 4, 10, 20, 5, 2, 20, 4] \n",
    "final_list = [] \n",
    "for num in duplicate: \n",
    "    if num not in final_list: \n",
    "        final_list.append(num)\n",
    "print(final_list)"
   ]
  },
  {
   "cell_type": "code",
   "execution_count": 33,
   "metadata": {},
   "outputs": [
    {
     "name": "stdout",
     "output_type": "stream",
     "text": [
      "Present,  value = 300\n"
     ]
    }
   ],
   "source": [
    "dict = {'a': 100, 'b':200, 'c':300}\n",
    "key = 'c'\n",
    "if key in dict.keys(): \n",
    "    print(\"Present, \", end =\" \") \n",
    "    print(\"value =\", dict[key]) \n",
    "else: \n",
    "    print(\"Not present\") "
   ]
  },
  {
   "cell_type": "code",
   "execution_count": null,
   "metadata": {},
   "outputs": [],
   "source": []
  }
 ],
 "metadata": {
  "kernelspec": {
   "display_name": "Python 3",
   "language": "python",
   "name": "python3"
  },
  "language_info": {
   "codemirror_mode": {
    "name": "ipython",
    "version": 3
   },
   "file_extension": ".py",
   "mimetype": "text/x-python",
   "name": "python",
   "nbconvert_exporter": "python",
   "pygments_lexer": "ipython3",
   "version": "3.6.5"
  }
 },
 "nbformat": 4,
 "nbformat_minor": 2
}
